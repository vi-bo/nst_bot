{
  "nbformat": 4,
  "nbformat_minor": 0,
  "metadata": {
    "colab": {
      "name": "v_[project]telegram_bot.ipynb",
      "provenance": [],
      "collapsed_sections": [],
      "toc_visible": true
    },
    "kernelspec": {
      "name": "python3",
      "display_name": "Python 3"
    },
    "language_info": {
      "name": "python"
    },
    "accelerator": "GPU"
  },
  "cells": [
    {
      "cell_type": "code",
      "source": [
        "#vibo: Виталий_Бочаров_56089805 telegram(@vibo22)"
      ],
      "metadata": {
        "id": "H1-BwT4_UT1h"
      },
      "execution_count": null,
      "outputs": []
    },
    {
      "cell_type": "markdown",
      "metadata": {
        "id": "xG34LB_ov1SV"
      },
      "source": [
        "<p style=\"align: center;\"><img align=center src=\"https://ucarecdn.com/fc1fbe09-464b-4ae1-857f-921adde9311c/\" width=900 height=200/></p>\n",
        "<h3 style=\"text-align: center;\"><b>Школа глубокого обучения ФПМИ МФТИ. Deep Learning (семестр 1, осень 2021): продвинутый поток</b></h3>\n",
        "\n",
        "<h3 style=\"text-align: center;\"><b>Итоговый проект. Телеграм-боты.  Вариант I. Перенос стиля в телеграм-ботах. </b></h3>\n",
        "\n"
      ]
    },
    {
      "cell_type": "markdown",
      "source": [
        "Куратор итогового проекта от dls: Аркадий Боков telegram (@Noath)"
      ],
      "metadata": {
        "id": "htlfoGTjNAgm"
      }
    },
    {
      "cell_type": "markdown",
      "source": [
        "\n",
        "\n",
        "---\n",
        "\n"
      ],
      "metadata": {
        "id": "ye339JY2kyvu"
      }
    },
    {
      "cell_type": "markdown",
      "source": [
        "### Постановка задачи"
      ],
      "metadata": {
        "id": "PYAW077ACHMi"
      }
    },
    {
      "cell_type": "markdown",
      "source": [
        "**Техническое задание (Slack, Аркадий Боков)**"
      ],
      "metadata": {
        "id": "aWUvCyDGuI9r"
      }
    },
    {
      "cell_type": "markdown",
      "source": [
        "#### Вариант 1."
      ],
      "metadata": {
        "id": "tXpihZo0izfa"
      }
    },
    {
      "cell_type": "markdown",
      "source": [
        "\n",
        "**Перенос стиля в телеграм-ботах:**\n",
        "- Написать код простой модели, которая сможет переносить стиль с одной фотографии на другую. Можно использовать медленный алгоритм, который мы рассказывали на нашем занятии.\n",
        "- Сделать бота, которому можно отправить две фотографии и получить в ответ фото с перенесенным стилем.\n",
        "\n",
        "- *Дополнительная часть для варианта 1: Добавить возможность переносить стиль с помощью GAN'ов.* \n"
      ],
      "metadata": {
        "id": "_Tg7U7EmMzIl"
      }
    },
    {
      "cell_type": "markdown",
      "source": [
        "**Этапы работы:**"
      ],
      "metadata": {
        "id": "B8AzcbfqfXro"
      }
    },
    {
      "cell_type": "markdown",
      "source": [
        "Основная часть / **Итого: 7 баллов**:\n",
        "\n",
        "1.   Реализовать модель Neural Style Transfer (любую), перенести функциональность в класс / **2 балла (оценивается модель), блокирующий пункт (т.е., без которого проект не будет засчитан)**\n",
        "2.   Написать бота, у которого будет диалог, предлагающий прислать картинки, и хэндлер, вызывающий класс из предыдущего пункта, чтобы сгенерировать ответную картинку / **1 балл (оценивается функционал бота), блокирующий пункт (т.е., без которого проект не будет засчитан) + пункты 1-2, работающие вместе - 1 балл**\n",
        "3.   (опционально) Асинхронность. Если вы раньше не писали приложения для сервера, то ваш код получится не асинхронным, а именно, во время обработки картинки бот будет просто висеть и не сможет ответить другому человеку. \n",
        "Это можно исправить, но потребуется хорошее понимание фреймворка, на котором Вы пишете бота, либо же изначальное использование асинхронных фреймворков. Об этом я ещё напишу ниже / **(необязательный) - 0.5 балла**\n",
        "4.   (опционально) Сделать интерфейс бота интуитивным и удобным, добавить подсказки и разные команды / **(необязательный) - 0.5 балла**\n",
        "5.   (опционально, НО КРАЙНЕ РЕКОМЕНДУЕТСЯ) Deploy бота на нужном сервисе. Тут рекомендуется Heroku, т.к. он бесплатный и простой. Чуть подробнее об этом ниже / **(необязательный) - 1 балл**\n",
        "6.   Описать свою работу в достаточной степени подробно, подчеркнуть, с какими трудностями столкнулись, какие решения использовали. Также этот отчёт должен содержать описание итогового результата / **1 балл, блокирующий пункт (т.е., без которого проект не будет засчитан)**\n",
        "\n"
      ],
      "metadata": {
        "id": "gcKTL3Ckfe6s"
      }
    },
    {
      "cell_type": "markdown",
      "source": [
        "Дополнительная часть (переходить к ней только после выполнения пунктов 1-2 основной части) / **Итого: 3 балла**:\n",
        "\n",
        "1.   Выбрать какой GAN Вы хотите использовать и какой стиль переносить. Возможно, Вы захотите сделать не совсем перенос стиля, а какую-то другую обработку картинок, что тоже принимается.\n",
        "2.   Прочитать, как алгоритм работает и понять.\n",
        "3.   Теперь есть два варианта:\n",
        "\n",
        "*   Найти готовую реализацию и как-то вызывать ее из своего кода.\n",
        "*   Натренировать свой GAN. Этот вариант скорее всего потребует вычислительных мощностей и времени, поэтому выбирайте его только если уверены в своих силах (и/или железе).\n",
        "\n",
        "4.   Дописать бота, чтобы он мог использовать GAN.\n",
        "\n",
        "\n",
        "\n",
        "\n",
        "\n"
      ],
      "metadata": {
        "id": "wZG1NvCigAeU"
      }
    },
    {
      "cell_type": "markdown",
      "source": [
        "\n",
        "\n",
        "---\n",
        "\n"
      ],
      "metadata": {
        "id": "GXVnCMRinwuj"
      }
    },
    {
      "cell_type": "markdown",
      "source": [
        "### Модели"
      ],
      "metadata": {
        "id": "fPdDX9xiy5Hn"
      }
    },
    {
      "cell_type": "markdown",
      "source": [
        "#### PyStiche (+)\n"
      ],
      "metadata": {
        "id": "hpk231vvCZE3"
      }
    },
    {
      "cell_type": "code",
      "source": [
        "#vibo: https://github.com/pystiche/pystiche"
      ],
      "metadata": {
        "id": "OiA6Huuwsyy1"
      },
      "execution_count": null,
      "outputs": []
    },
    {
      "cell_type": "code",
      "source": [
        "# #vibo: устанавливаем готовый модуль NST (Neural Style Transfer) \n",
        "# !pip install pystiche"
      ],
      "metadata": {
        "id": "umlIA3XRYcO8"
      },
      "execution_count": null,
      "outputs": []
    },
    {
      "cell_type": "code",
      "source": [
        "# #vibo: https://medium.com/pytorch/pystiche-a-framework-for-neural-style-transfer-1ea6e4825f32\n",
        "\n",
        "# #vibo: импортируем библиотеки\n",
        "# import torch\n",
        "# import pystiche\n",
        "# from PIL import Image\n",
        "# from pystiche import demo, enc, loss, ops, optim\n",
        "\n",
        "# #vibo: выведем версию pystiche\n",
        "# print(f\"pystiche == {pystiche.__version__}\")\n",
        "\n",
        "# #vibo: выбор девайса на котором будем производить расчет\n",
        "# device = torch.device(\"cuda\" if torch.cuda.is_available() else \"cpu\")\n",
        "# print('device ==', device)"
      ],
      "metadata": {
        "id": "paWXj6oMYTbA"
      },
      "execution_count": null,
      "outputs": []
    },
    {
      "cell_type": "code",
      "source": [
        "# #vibo: используем предобученную VGG19\n",
        "# multi_layer_encoder = enc.vgg19_multi_layer_encoder()\n",
        "# print(multi_layer_encoder)"
      ],
      "metadata": {
        "id": "pZL-Gp5UYlRe"
      },
      "execution_count": null,
      "outputs": []
    },
    {
      "cell_type": "code",
      "source": [
        "# content_layer = \"relu4_2\"\n",
        "# encoder = multi_layer_encoder.extract_encoder(content_layer)\n",
        "# #vibo: выдает предупреждение\n",
        "# #content_loss = ops.FeatureReconstructionOperator(encoder)\n",
        "# content_loss = pystiche.loss.FeatureReconstructionLoss(encoder)"
      ],
      "metadata": {
        "id": "DyIbtyKqYn7k"
      },
      "execution_count": null,
      "outputs": []
    },
    {
      "cell_type": "code",
      "source": [
        "# style_layers = (\"relu1_1\", \"relu2_1\", \"relu3_1\", \"relu4_1\", \"relu5_1\")\n",
        "# style_weight = 1e3\n",
        "\n",
        "# def get_encoding_op(encoder, layer_weight):\n",
        "#     #vibo: выдает предупреждение\n",
        "#     #return ops.GramOperator(encoder, score_weight=layer_weight)\n",
        "#     return pystiche.loss.GramLoss(encoder, score_weight=layer_weight)\n",
        "\n",
        "# #vibo: выдает предупреждение\n",
        "# #style_loss = ops.MultiLayerEncodingOperator(multi_layer_encoder, style_layers, get_encoding_op, score_weight=style_weight)\n",
        "# style_loss = pystiche.loss.MultiLayerEncodingLoss(multi_layer_encoder, style_layers, get_encoding_op, score_weight=style_weight)"
      ],
      "metadata": {
        "id": "NAy2h7XlY1Bc"
      },
      "execution_count": null,
      "outputs": []
    },
    {
      "cell_type": "code",
      "source": [
        "# criterion = loss.PerceptualLoss(content_loss, style_loss).to(device)\n",
        "# print(criterion)"
      ],
      "metadata": {
        "id": "kl4iRItOY7Cc"
      },
      "execution_count": null,
      "outputs": []
    },
    {
      "cell_type": "code",
      "source": [
        "# #vibo: загружаем demo и устанавливаем максимальный размер картинки\n",
        "# size = 500\n",
        "# images = demo.images()\n",
        "# content_image = images[\"bird1\"].read(size=size, device=device)"
      ],
      "metadata": {
        "id": "qg8W8GBBY_R1"
      },
      "execution_count": null,
      "outputs": []
    },
    {
      "cell_type": "code",
      "source": [
        "# #vibo: читаем полученную от пользователя первую картинку\n",
        "# content_image = Image.open('/content/content_image.jpg')\n",
        "\n",
        "# import torchvision.transforms as transforms\n",
        "\n",
        "# #normalize = transforms.Normalize(mean=[0.485, 0.456, 0.406], std=[0.229, 0.224, 0.225])\n",
        "\n",
        "# transforms_image=transforms.Compose([transforms.Resize(512), transforms.CenterCrop(512), transforms.ToTensor()])\n",
        "\n",
        "# content_image=transforms_image(content_image)"
      ],
      "metadata": {
        "id": "qFGSakw_ZIGq"
      },
      "execution_count": null,
      "outputs": []
    },
    {
      "cell_type": "code",
      "source": [
        "# criterion.set_content_image(content_image.to(device))"
      ],
      "metadata": {
        "id": "cRSUCwbwQy9m"
      },
      "execution_count": null,
      "outputs": []
    },
    {
      "cell_type": "code",
      "source": [
        "# import matplotlib.pyplot as plt\n",
        "# from torchvision import transforms\n",
        "\n",
        "# unloader = transforms.ToPILImage()  # reconvert into PIL image\n",
        "\n",
        "# plt.ion()\n",
        "\n",
        "# def imshow(tensor, title=None):\n",
        "#     image = tensor.cpu().clone()  # we clone the tensor to not do changes on it\n",
        "#     image = image.squeeze(0)      # remove the fake batch dimension\n",
        "#     image = unloader(image)\n",
        "#     plt.imshow(image)\n",
        "#     if title is not None:\n",
        "#         plt.title(title)\n",
        "#     plt.pause(0.001) # pause a bit so that plots are updated"
      ],
      "metadata": {
        "id": "wtuOQXBtVGWB"
      },
      "execution_count": null,
      "outputs": []
    },
    {
      "cell_type": "code",
      "source": [
        "# imshow(content_image)"
      ],
      "metadata": {
        "id": "2fagj8h8V_iP"
      },
      "execution_count": null,
      "outputs": []
    },
    {
      "cell_type": "code",
      "source": [
        "# #vibo: загрузка demo\n",
        "# style_image = images[\"paint\"].read(size=size, device=device)\n",
        "# criterion.set_style_image(style_image)"
      ],
      "metadata": {
        "id": "M6E3dC80ZRL9"
      },
      "execution_count": null,
      "outputs": []
    },
    {
      "cell_type": "code",
      "source": [
        "# #vibo: читаем вторую, полученную от пользователя картинку\n",
        "# style_image = Image.open('/content/style_image.jpg')\n",
        "# style_image=transforms_image(style_image)\n",
        "# criterion.set_style_image(style_image.to(device))"
      ],
      "metadata": {
        "id": "efj1Wn60jy7d"
      },
      "execution_count": null,
      "outputs": []
    },
    {
      "cell_type": "code",
      "source": [
        "# imshow(style_image)"
      ],
      "metadata": {
        "id": "JPAJ94nGWEK8"
      },
      "execution_count": null,
      "outputs": []
    },
    {
      "cell_type": "code",
      "source": [
        "# input_image = content_image.to(device).clone()\n",
        "# output_image = optim.image_optimization(input_image, criterion, num_steps=500)"
      ],
      "metadata": {
        "id": "tEt841MUZS0l"
      },
      "execution_count": null,
      "outputs": []
    },
    {
      "cell_type": "code",
      "source": [
        "# imshow(output_image)"
      ],
      "metadata": {
        "id": "GDBJCU0qVarF"
      },
      "execution_count": null,
      "outputs": []
    },
    {
      "cell_type": "code",
      "source": [
        "# #vibo: сохраняем картинку\n",
        "# output_image = unloader(output_image)\n",
        "# output_image.save('output_image.jpg')"
      ],
      "metadata": {
        "id": "SOOlLZXwhyNG"
      },
      "execution_count": null,
      "outputs": []
    },
    {
      "cell_type": "markdown",
      "source": [
        "#### Magic Framework (-)"
      ],
      "metadata": {
        "id": "l3VTF7fQC3L1"
      }
    },
    {
      "cell_type": "code",
      "source": [
        "# !pip3 install magic_framework"
      ],
      "metadata": {
        "id": "lyQHEKrcZazV"
      },
      "execution_count": null,
      "outputs": []
    },
    {
      "cell_type": "code",
      "source": [
        "#   #vibo: как не примут\n",
        "# import matplotlib.pyplot as plt\n",
        "# from magic_framework import NST\n",
        "\n",
        "# def magic_style_transfer(*args, **kwargs):\n",
        "#     style = plt.imread(...)\n",
        "#     content = plt.imread(...)\n",
        "#     model = NST(...)\n",
        "    \n",
        "#     result = model(style, content)\n",
        "#     return result"
      ],
      "metadata": {
        "id": "3rVt37fFQgjD"
      },
      "execution_count": null,
      "outputs": []
    },
    {
      "cell_type": "markdown",
      "source": [
        "#### Pytorch_AdaIN (-)"
      ],
      "metadata": {
        "id": "nhCczWjuoftr"
      }
    },
    {
      "cell_type": "code",
      "source": [
        "#vibo: https://github.com/irasin/Pytorch_AdaIN"
      ],
      "metadata": {
        "id": "zzwxOf0HooFx"
      },
      "execution_count": null,
      "outputs": []
    },
    {
      "cell_type": "markdown",
      "source": [
        "#### DLS-base-line (+)"
      ],
      "metadata": {
        "id": "Kbt7KQVID7Rz"
      }
    },
    {
      "cell_type": "code",
      "metadata": {
        "id": "iIXHhd1ZvuSY"
      },
      "source": [
        "#vibo: импортируем бибилотеки base_line\n",
        "import os\n",
        "from torch.utils.data import DataLoader\n",
        "from torchvision.datasets import ImageFolder\n",
        "import torchvision.transforms as tt\n",
        "import torch\n",
        "import torch.nn as nn\n",
        "import cv2\n",
        "from tqdm.notebook import tqdm\n",
        "from torchvision.utils import save_image\n",
        "from torchvision.utils import make_grid\n",
        "import numpy as np\n",
        "import matplotlib.pyplot as plt\n",
        "import seaborn as sns\n",
        "%matplotlib inline\n",
        "\n",
        "sns.set(style='darkgrid', font_scale=1.2)"
      ],
      "execution_count": null,
      "outputs": []
    },
    {
      "cell_type": "code",
      "source": [
        "!pip3 install torch torchvision\n",
        "!pip3 install pillow==4.1.1"
      ],
      "metadata": {
        "colab": {
          "base_uri": "https://localhost:8080/"
        },
        "id": "gqov8YCTEDYE",
        "outputId": "161da6f4-2018-4382-a6c1-8c40d57a07f0"
      },
      "execution_count": null,
      "outputs": [
        {
          "output_type": "stream",
          "name": "stdout",
          "text": [
            "Requirement already satisfied: torch in /usr/local/lib/python3.7/dist-packages (1.10.0+cu111)\n",
            "Requirement already satisfied: torchvision in /usr/local/lib/python3.7/dist-packages (0.11.1+cu111)\n",
            "Requirement already satisfied: typing-extensions in /usr/local/lib/python3.7/dist-packages (from torch) (3.10.0.2)\n",
            "Requirement already satisfied: numpy in /usr/local/lib/python3.7/dist-packages (from torchvision) (1.19.5)\n",
            "Requirement already satisfied: pillow!=8.3.0,>=5.3.0 in /usr/local/lib/python3.7/dist-packages (from torchvision) (7.1.2)\n",
            "Collecting pillow==4.1.1\n",
            "  Downloading Pillow-4.1.1.tar.gz (11.3 MB)\n",
            "\u001b[K\n",
            "\u001b[?25hTraceback (most recent call last):\n",
            "  File \"/usr/local/lib/python3.7/dist-packages/pip/_internal/cli/base_command.py\", line 180, in _main\n",
            "    status = self.run(options, args)\n",
            "  File \"/usr/local/lib/python3.7/dist-packages/pip/_internal/cli/req_command.py\", line 199, in wrapper\n",
            "    return func(self, options, args)\n",
            "  File \"/usr/local/lib/python3.7/dist-packages/pip/_internal/commands/install.py\", line 319, in run\n",
            "    reqs, check_supported_wheels=not options.target_dir\n",
            "  File \"/usr/local/lib/python3.7/dist-packages/pip/_internal/resolution/resolvelib/resolver.py\", line 128, in resolve\n",
            "    requirements, max_rounds=try_to_avoid_resolution_too_deep\n",
            "  File \"/usr/local/lib/python3.7/dist-packages/pip/_vendor/resolvelib/resolvers.py\", line 473, in resolve\n",
            "    state = resolution.resolve(requirements, max_rounds=max_rounds)\n",
            "  File \"/usr/local/lib/python3.7/dist-packages/pip/_vendor/resolvelib/resolvers.py\", line 341, in resolve\n",
            "    name, crit = self._merge_into_criterion(r, parent=None)\n",
            "  File \"/usr/local/lib/python3.7/dist-packages/pip/_vendor/resolvelib/resolvers.py\", line 172, in _merge_into_criterion\n",
            "    if not criterion.candidates:\n",
            "  File \"/usr/local/lib/python3.7/dist-packages/pip/_vendor/resolvelib/structs.py\", line 139, in __bool__\n",
            "    return bool(self._sequence)\n",
            "  File \"/usr/local/lib/python3.7/dist-packages/pip/_internal/resolution/resolvelib/found_candidates.py\", line 143, in __bool__\n",
            "    return any(self)\n",
            "  File \"/usr/local/lib/python3.7/dist-packages/pip/_internal/resolution/resolvelib/found_candidates.py\", line 129, in <genexpr>\n",
            "    return (c for c in iterator if id(c) not in self._incompatible_ids)\n",
            "  File \"/usr/local/lib/python3.7/dist-packages/pip/_internal/resolution/resolvelib/found_candidates.py\", line 33, in _iter_built\n",
            "    candidate = func()\n",
            "  File \"/usr/local/lib/python3.7/dist-packages/pip/_internal/resolution/resolvelib/factory.py\", line 205, in _make_candidate_from_link\n",
            "    version=version,\n",
            "  File \"/usr/local/lib/python3.7/dist-packages/pip/_internal/resolution/resolvelib/candidates.py\", line 312, in __init__\n",
            "    version=version,\n",
            "  File \"/usr/local/lib/python3.7/dist-packages/pip/_internal/resolution/resolvelib/candidates.py\", line 151, in __init__\n",
            "    self.dist = self._prepare()\n",
            "  File \"/usr/local/lib/python3.7/dist-packages/pip/_internal/resolution/resolvelib/candidates.py\", line 234, in _prepare\n",
            "    dist = self._prepare_distribution()\n",
            "  File \"/usr/local/lib/python3.7/dist-packages/pip/_internal/resolution/resolvelib/candidates.py\", line 318, in _prepare_distribution\n",
            "    self._ireq, parallel_builds=True\n",
            "  File \"/usr/local/lib/python3.7/dist-packages/pip/_internal/operations/prepare.py\", line 508, in prepare_linked_requirement\n",
            "    return self._prepare_linked_requirement(req, parallel_builds)\n",
            "  File \"/usr/local/lib/python3.7/dist-packages/pip/_internal/operations/prepare.py\", line 552, in _prepare_linked_requirement\n",
            "    self.download_dir, hashes\n",
            "  File \"/usr/local/lib/python3.7/dist-packages/pip/_internal/operations/prepare.py\", line 243, in unpack_url\n",
            "    hashes=hashes,\n",
            "  File \"/usr/local/lib/python3.7/dist-packages/pip/_internal/operations/prepare.py\", line 102, in get_http_url\n",
            "    from_path, content_type = download(link, temp_dir.path)\n",
            "  File \"/usr/local/lib/python3.7/dist-packages/pip/_internal/network/download.py\", line 157, in __call__\n",
            "    for chunk in chunks:\n",
            "  File \"/usr/local/lib/python3.7/dist-packages/pip/_internal/cli/progress_bars.py\", line 156, in iter\n",
            "    self.next(len(x))  # noqa: B305\n",
            "  File \"/usr/local/lib/python3.7/dist-packages/pip/_vendor/progress/__init__.py\", line 120, in next\n",
            "    self.update()\n",
            "  File \"/usr/local/lib/python3.7/dist-packages/pip/_vendor/progress/bar.py\", line 83, in update\n",
            "    self.writeln(line)\n",
            "  File \"/usr/local/lib/python3.7/dist-packages/pip/_vendor/progress/__init__.py\", line 101, in writeln\n",
            "    self.clearln()\n",
            "  File \"/usr/local/lib/python3.7/dist-packages/pip/_vendor/progress/__init__.py\", line 90, in clearln\n",
            "    print('\\r\\x1b[K', end='', file=self.file)\n",
            "  File \"/usr/local/lib/python3.7/dist-packages/pip/_internal/cli/progress_bars.py\", line 106, in handle_sigint\n",
            "    self.finish()\n",
            "  File \"/usr/local/lib/python3.7/dist-packages/pip/_internal/cli/progress_bars.py\", line 96, in finish\n",
            "    super().finish()  # type: ignore\n",
            "  File \"/usr/local/lib/python3.7/dist-packages/pip/_vendor/progress/__init__.py\", line 107, in finish\n",
            "    print(file=self.file)\n",
            "RuntimeError: reentrant call inside <_io.BufferedWriter name='<stdout>'>\n",
            "\n",
            "During handling of the above exception, another exception occurred:\n",
            "\n",
            "Traceback (most recent call last):\n",
            "  File \"/usr/local/bin/pip3\", line 8, in <module>\n",
            "    sys.exit(main())\n",
            "  File \"/usr/local/lib/python3.7/dist-packages/pip/_internal/cli/main.py\", line 71, in main\n",
            "    return command.main(cmd_args)\n",
            "  File \"/usr/local/lib/python3.7/dist-packages/pip/_internal/cli/base_command.py\", line 104, in main\n",
            "    return self._main(args)\n",
            "  File \"/usr/local/lib/python3.7/dist-packages/pip/_internal/cli/base_command.py\", line 217, in _main\n",
            "    logger.critical(\"Exception:\", exc_info=True)\n",
            "  File \"/usr/lib/python3.7/logging/__init__.py\", line 1425, in critical\n",
            "    self._log(CRITICAL, msg, args, **kwargs)\n",
            "  File \"/usr/lib/python3.7/logging/__init__.py\", line 1514, in _log\n",
            "    self.handle(record)\n",
            "  File \"/usr/lib/python3.7/logging/__init__.py\", line 1524, in handle\n",
            "    self.callHandlers(record)\n",
            "  File \"/usr/lib/python3.7/logging/__init__.py\", line 1586, in callHandlers\n",
            "    hdlr.handle(record)\n",
            "  File \"/usr/lib/python3.7/logging/__init__.py\", line 894, in handle\n",
            "    self.emit(record)\n",
            "  File \"/usr/lib/python3.7/logging/__init__.py\", line 1025, in emit\n",
            "    msg = self.format(record)\n",
            "  File \"/usr/local/lib/python3.7/dist-packages/pip/_internal/utils/logging.py\", line 208, in format\n",
            "    msg = super().format(record)\n",
            "  File \"/usr/lib/python3.7/logging/__init__.py\", line 869, in format\n",
            "    return fmt.format(record)\n",
            "  File \"/usr/local/lib/python3.7/dist-packages/pip/_internal/utils/logging.py\", line 130, in format\n",
            "    formatted = super().format(record)\n",
            "  File \"/usr/lib/python3.7/logging/__init__.py\", line 616, in format\n",
            "    record.exc_text = self.formatException(record.exc_info)\n",
            "  File \"/usr/lib/python3.7/logging/__init__.py\", line 566, in formatException\n",
            "    traceback.print_exception(ei[0], ei[1], tb, None, sio)\n",
            "  File \"/usr/lib/python3.7/traceback.py\", line 104, in print_exception\n",
            "    type(value), value, tb, limit=limit).format(chain=chain):\n",
            "  File \"/usr/lib/python3.7/traceback.py\", line 508, in __init__\n",
            "    capture_locals=capture_locals)\n",
            "  File \"/usr/lib/python3.7/traceback.py\", line 363, in extract\n",
            "    f.line\n",
            "  File \"/usr/lib/python3.7/traceback.py\", line 285, in line\n",
            "    self._line = linecache.getline(self.filename, self.lineno).strip()\n",
            "  File \"/usr/lib/python3.7/linecache.py\", line 16, in getline\n",
            "    lines = getlines(filename, module_globals)\n",
            "  File \"/usr/lib/python3.7/linecache.py\", line 47, in getlines\n",
            "    return updatecache(filename, module_globals)\n",
            "  File \"/usr/lib/python3.7/linecache.py\", line 136, in updatecache\n",
            "    with tokenize.open(fullname) as fp:\n",
            "  File \"/usr/lib/python3.7/tokenize.py\", line 449, in open\n",
            "    encoding, lines = detect_encoding(buffer.readline)\n",
            "  File \"/usr/lib/python3.7/tokenize.py\", line 418, in detect_encoding\n",
            "    first = read_or_stop()\n",
            "  File \"/usr/lib/python3.7/tokenize.py\", line 376, in read_or_stop\n",
            "    return readline()\n",
            "  File \"/usr/local/lib/python3.7/dist-packages/pip/_internal/cli/progress_bars.py\", line 107, in handle_sigint\n",
            "    self.original_handler(signum, frame)\n",
            "KeyboardInterrupt\n"
          ]
        }
      ]
    },
    {
      "cell_type": "code",
      "source": [
        "%matplotlib inline\n",
        "from PIL import Image\n",
        "\n",
        "\n",
        "import torch\n",
        "import torch.nn as nn\n",
        "import torch.nn.functional as F\n",
        "import torch.optim as optim\n",
        "\n",
        "import matplotlib.pyplot as plt\n",
        "\n",
        "\n",
        "import torchvision.transforms as transforms\n",
        "import torchvision.models as models\n",
        "\n",
        "import copy"
      ],
      "metadata": {
        "id": "Tr-6fqjcEDL2"
      },
      "execution_count": null,
      "outputs": []
    },
    {
      "cell_type": "code",
      "source": [
        "from google.colab import drive\n",
        "drive.mount('/content/drive')"
      ],
      "metadata": {
        "colab": {
          "base_uri": "https://localhost:8080/",
          "height": 331
        },
        "id": "u0eN1p2Lj_SG",
        "outputId": "140442b1-357e-4ff2-b743-3c8287425470"
      },
      "execution_count": null,
      "outputs": [
        {
          "output_type": "error",
          "ename": "MessageError",
          "evalue": "ignored",
          "traceback": [
            "\u001b[0;31m---------------------------------------------------------------------------\u001b[0m",
            "\u001b[0;31mMessageError\u001b[0m                              Traceback (most recent call last)",
            "\u001b[0;32m<ipython-input-26-d5df0069828e>\u001b[0m in \u001b[0;36m<module>\u001b[0;34m()\u001b[0m\n\u001b[1;32m      1\u001b[0m \u001b[0;32mfrom\u001b[0m \u001b[0mgoogle\u001b[0m\u001b[0;34m.\u001b[0m\u001b[0mcolab\u001b[0m \u001b[0;32mimport\u001b[0m \u001b[0mdrive\u001b[0m\u001b[0;34m\u001b[0m\u001b[0;34m\u001b[0m\u001b[0m\n\u001b[0;32m----> 2\u001b[0;31m \u001b[0mdrive\u001b[0m\u001b[0;34m.\u001b[0m\u001b[0mmount\u001b[0m\u001b[0;34m(\u001b[0m\u001b[0;34m'/content/drive'\u001b[0m\u001b[0;34m)\u001b[0m\u001b[0;34m\u001b[0m\u001b[0;34m\u001b[0m\u001b[0m\n\u001b[0m",
            "\u001b[0;32m/usr/local/lib/python3.7/dist-packages/google/colab/drive.py\u001b[0m in \u001b[0;36mmount\u001b[0;34m(mountpoint, force_remount, timeout_ms, use_metadata_server)\u001b[0m\n\u001b[1;32m    111\u001b[0m       \u001b[0mtimeout_ms\u001b[0m\u001b[0;34m=\u001b[0m\u001b[0mtimeout_ms\u001b[0m\u001b[0;34m,\u001b[0m\u001b[0;34m\u001b[0m\u001b[0;34m\u001b[0m\u001b[0m\n\u001b[1;32m    112\u001b[0m       \u001b[0muse_metadata_server\u001b[0m\u001b[0;34m=\u001b[0m\u001b[0muse_metadata_server\u001b[0m\u001b[0;34m,\u001b[0m\u001b[0;34m\u001b[0m\u001b[0;34m\u001b[0m\u001b[0m\n\u001b[0;32m--> 113\u001b[0;31m       ephemeral=ephemeral)\n\u001b[0m\u001b[1;32m    114\u001b[0m \u001b[0;34m\u001b[0m\u001b[0m\n\u001b[1;32m    115\u001b[0m \u001b[0;34m\u001b[0m\u001b[0m\n",
            "\u001b[0;32m/usr/local/lib/python3.7/dist-packages/google/colab/drive.py\u001b[0m in \u001b[0;36m_mount\u001b[0;34m(mountpoint, force_remount, timeout_ms, use_metadata_server, ephemeral)\u001b[0m\n\u001b[1;32m    134\u001b[0m   \u001b[0;32mif\u001b[0m \u001b[0mephemeral\u001b[0m\u001b[0;34m:\u001b[0m\u001b[0;34m\u001b[0m\u001b[0;34m\u001b[0m\u001b[0m\n\u001b[1;32m    135\u001b[0m     _message.blocking_request(\n\u001b[0;32m--> 136\u001b[0;31m         'request_auth', request={'authType': 'dfs_ephemeral'}, timeout_sec=None)\n\u001b[0m\u001b[1;32m    137\u001b[0m \u001b[0;34m\u001b[0m\u001b[0m\n\u001b[1;32m    138\u001b[0m   \u001b[0mmountpoint\u001b[0m \u001b[0;34m=\u001b[0m \u001b[0m_os\u001b[0m\u001b[0;34m.\u001b[0m\u001b[0mpath\u001b[0m\u001b[0;34m.\u001b[0m\u001b[0mexpanduser\u001b[0m\u001b[0;34m(\u001b[0m\u001b[0mmountpoint\u001b[0m\u001b[0;34m)\u001b[0m\u001b[0;34m\u001b[0m\u001b[0;34m\u001b[0m\u001b[0m\n",
            "\u001b[0;32m/usr/local/lib/python3.7/dist-packages/google/colab/_message.py\u001b[0m in \u001b[0;36mblocking_request\u001b[0;34m(request_type, request, timeout_sec, parent)\u001b[0m\n\u001b[1;32m    173\u001b[0m   request_id = send_request(\n\u001b[1;32m    174\u001b[0m       request_type, request, parent=parent, expect_reply=True)\n\u001b[0;32m--> 175\u001b[0;31m   \u001b[0;32mreturn\u001b[0m \u001b[0mread_reply_from_input\u001b[0m\u001b[0;34m(\u001b[0m\u001b[0mrequest_id\u001b[0m\u001b[0;34m,\u001b[0m \u001b[0mtimeout_sec\u001b[0m\u001b[0;34m)\u001b[0m\u001b[0;34m\u001b[0m\u001b[0;34m\u001b[0m\u001b[0m\n\u001b[0m",
            "\u001b[0;32m/usr/local/lib/python3.7/dist-packages/google/colab/_message.py\u001b[0m in \u001b[0;36mread_reply_from_input\u001b[0;34m(message_id, timeout_sec)\u001b[0m\n\u001b[1;32m    104\u001b[0m         reply.get('colab_msg_id') == message_id):\n\u001b[1;32m    105\u001b[0m       \u001b[0;32mif\u001b[0m \u001b[0;34m'error'\u001b[0m \u001b[0;32min\u001b[0m \u001b[0mreply\u001b[0m\u001b[0;34m:\u001b[0m\u001b[0;34m\u001b[0m\u001b[0;34m\u001b[0m\u001b[0m\n\u001b[0;32m--> 106\u001b[0;31m         \u001b[0;32mraise\u001b[0m \u001b[0mMessageError\u001b[0m\u001b[0;34m(\u001b[0m\u001b[0mreply\u001b[0m\u001b[0;34m[\u001b[0m\u001b[0;34m'error'\u001b[0m\u001b[0;34m]\u001b[0m\u001b[0;34m)\u001b[0m\u001b[0;34m\u001b[0m\u001b[0;34m\u001b[0m\u001b[0m\n\u001b[0m\u001b[1;32m    107\u001b[0m       \u001b[0;32mreturn\u001b[0m \u001b[0mreply\u001b[0m\u001b[0;34m.\u001b[0m\u001b[0mget\u001b[0m\u001b[0;34m(\u001b[0m\u001b[0;34m'data'\u001b[0m\u001b[0;34m,\u001b[0m \u001b[0;32mNone\u001b[0m\u001b[0;34m)\u001b[0m\u001b[0;34m\u001b[0m\u001b[0;34m\u001b[0m\u001b[0m\n\u001b[1;32m    108\u001b[0m \u001b[0;34m\u001b[0m\u001b[0m\n",
            "\u001b[0;31mMessageError\u001b[0m: Error: credential propagation was unsuccessful"
          ]
        }
      ]
    },
    {
      "cell_type": "code",
      "source": [
        "!ls /content/drive/MyDrive/images/"
      ],
      "metadata": {
        "id": "bWBvFKToEC8D"
      },
      "execution_count": null,
      "outputs": []
    },
    {
      "cell_type": "code",
      "source": [
        "imsize = 1024  \n",
        "\n",
        "loader = transforms.Compose([\n",
        "    transforms.Resize(imsize),  # нормируем размер изображения\n",
        "    transforms.CenterCrop(imsize),\n",
        "    transforms.ToTensor()])  # превращаем в удобный формат"
      ],
      "metadata": {
        "id": "-Q9MiXNDF7Qu"
      },
      "execution_count": null,
      "outputs": []
    },
    {
      "cell_type": "code",
      "source": [
        "device = torch.device(\"cuda\" if torch.cuda.is_available() else \"cpu\")\n",
        "def image_loader(image_name):\n",
        "    image = Image.open(image_name)\n",
        "    image = loader(image).unsqueeze(0)\n",
        "    return image.to(device, torch.float)\n",
        "\n",
        "\n",
        "#vibo: подгружвем картинки style_img + content_img\n",
        "#style_img = image_loader(\"/content/drive/MyDrive/images/picasso.jpg\")# as well as here\n",
        "style_img = image_loader('/content/drive/MyDrive/v_upgrade_photo/reference.JPG')\n",
        "#content_img = image_loader(\"/content/drive/MyDrive/images/dancing.jpg\")#измените путь на тот который у вас.\n",
        "content_img = image_loader('/content/drive/MyDrive/v_upgrade_photo/image1.jpg')"
      ],
      "metadata": {
        "id": "LIGW_xUoGDW-"
      },
      "execution_count": null,
      "outputs": []
    },
    {
      "cell_type": "code",
      "source": [
        "#vibo: картинки должны быть максимально близкие по размеру\n",
        "unloader = transforms.ToPILImage() # тензор в кратинку  \n",
        "\n",
        "plt.ion() \n",
        "\n",
        "def imshow(tensor, title=None):\n",
        "    image = tensor.cpu().clone()   \n",
        "    image = image.squeeze(0)      # функция для отрисовки изображения\n",
        "    image = unloader(image)\n",
        "    plt.imshow(image)\n",
        "    if title is not None:\n",
        "        plt.title(title)\n",
        "    plt.pause(0.001) \n",
        "\n",
        "# отрисовка\n",
        "\n",
        "plt.figure()\n",
        "imshow(style_img, title='Style Image')\n",
        "\n",
        "plt.figure()\n",
        "imshow(content_img, title='Content Image')"
      ],
      "metadata": {
        "id": "VoDg86SWGctK"
      },
      "execution_count": null,
      "outputs": []
    },
    {
      "cell_type": "code",
      "source": [
        "#vibo: Content Loss\n",
        "class ContentLoss(nn.Module):\n",
        "\n",
        "        #vibo: target он же контент, который прошел через ту часть сети котора находится перед этим\n",
        "        def __init__(self, target,):\n",
        "            super(ContentLoss, self).__init__()\n",
        "            # we 'detach' the target content from the tree used\n",
        "            # to dynamically compute the gradient: this is a stated value,\n",
        "            # not a variable. Otherwise the forward method of the criterion\n",
        "            # will throw an error.\n",
        "            #vibo: в явном виде пишем, чтобы таргет не изменялся\n",
        "            self.target = target.detach()#это константа. Убираем ее из дерева вычеслений\n",
        "            self.loss = F.mse_loss(self.target, self.target )#to initialize with something\n",
        "\n",
        "        #vibo: input - картинка, которая передается на этот уровень\n",
        "        def forward(self, input):\n",
        "            #vibo: стандартный mse loss из модуля  torch.nn.functional\n",
        "            self.loss = F.mse_loss(input, self.target)\n",
        "            #vibo: картинка никак не меняется, только вычисляется loss\n",
        "            return input"
      ],
      "metadata": {
        "id": "SBL2nk9uGcnJ"
      },
      "execution_count": null,
      "outputs": []
    },
    {
      "cell_type": "code",
      "source": [
        "#vibo: векторизируем тензор, который вышел со сверточного слоя (чтобы перемножить вектора - нужны вектора, а не тензоры)\n",
        "def gram_matrix(input):\n",
        "        batch_size , h, w, f_map_num = input.size()  # batch size(=1)\n",
        "        # b=number of feature maps\n",
        "        # (h,w)=dimensions of a feature map (N=h*w)\n",
        "\n",
        "        features = input.view(batch_size * h, w * f_map_num)  # resise F_XL into \\hat F_XL\n",
        "\n",
        "        #vibo: multiply matrix\n",
        "        G = torch.mm(features, features.t())  # compute the gram product\n",
        "\n",
        "        # we 'normalize' the values of the gram matrix\n",
        "        # by dividing by the number of element in each feature maps.\n",
        "        return G.div(batch_size * h * w * f_map_num)"
      ],
      "metadata": {
        "id": "_8Yipcj2GckE"
      },
      "execution_count": null,
      "outputs": []
    },
    {
      "cell_type": "code",
      "source": [
        "class StyleLoss(nn.Module):\n",
        "        def __init__(self, target_feature):\n",
        "            super(StyleLoss, self).__init__()\n",
        "            #vibo: так же в явном виде указываем, что таргет (стиль в данном случае) не менять\n",
        "            self.target = gram_matrix(target_feature).detach()\n",
        "            self.loss = F.mse_loss(self.target, self.target)# to initialize with something\n",
        "\n",
        "        def forward(self, input):\n",
        "            G = gram_matrix(input)\n",
        "            self.loss = F.mse_loss(G, self.target)\n",
        "            return input"
      ],
      "metadata": {
        "id": "HE74XnsNGcfH"
      },
      "execution_count": null,
      "outputs": []
    },
    {
      "cell_type": "code",
      "source": [
        "#vibo: нормировка изображений из статьи про обучение сети\n",
        "cnn_normalization_mean = torch.tensor([0.485, 0.456, 0.406]).to(device)\n",
        "cnn_normalization_std = torch.tensor([0.229, 0.224, 0.225]).to(device)"
      ],
      "metadata": {
        "id": "30BfbBgDGcWl"
      },
      "execution_count": null,
      "outputs": []
    },
    {
      "cell_type": "code",
      "source": [
        "#vibo: нормализация изображений\n",
        "class Normalization(nn.Module):\n",
        "        def __init__(self, mean, std):\n",
        "            super(Normalization, self).__init__()\n",
        "            # .view the mean and std to make them [C x 1 x 1] so that they can\n",
        "            # directly work with image Tensor of shape [B x C x H x W].\n",
        "            # B is batch size. C is number of channels. H is height and W is width.\n",
        "            self.mean = torch.tensor(mean).view(-1, 1, 1)\n",
        "            self.std = torch.tensor(std).view(-1, 1, 1)\n",
        "\n",
        "        def forward(self, img):\n",
        "            # normalize img\n",
        "            return (img - self.mean) / self.std"
      ],
      "metadata": {
        "id": "TkCuHQLvGoR1"
      },
      "execution_count": null,
      "outputs": []
    },
    {
      "cell_type": "code",
      "source": [
        "#vibo: уровни после которых считаем ошибку контента\n",
        "content_layers_default = ['conv_4']\n",
        "#vibo: уровни, почле которых считаем ошибку стиля\n",
        "style_layers_default = ['conv_1', 'conv_2', 'conv_3', 'conv_4', 'conv_5']"
      ],
      "metadata": {
        "id": "ymex2YHtGoOb"
      },
      "execution_count": null,
      "outputs": []
    },
    {
      "cell_type": "code",
      "source": [
        "cnn = models.vgg19(pretrained=True).features.to(device).eval()"
      ],
      "metadata": {
        "id": "g5ErpmQEGoJp"
      },
      "execution_count": null,
      "outputs": []
    },
    {
      "cell_type": "code",
      "source": [
        "cnn.parameters"
      ],
      "metadata": {
        "id": "nmHSJzb9G087"
      },
      "execution_count": null,
      "outputs": []
    },
    {
      "cell_type": "code",
      "source": [
        "#vibo: делаем свою новую модель из vgg19\n",
        "def get_style_model_and_losses(cnn, normalization_mean, normalization_std,\n",
        "                                   style_img, content_img,\n",
        "                                   content_layers=content_layers_default,\n",
        "                                   style_layers=style_layers_default):\n",
        "        #vibo: копируем сеть, которую передали в функцию\n",
        "        cnn = copy.deepcopy(cnn)\n",
        "\n",
        "        # normalization module\n",
        "        #vibo: вставляем нормализующий уровень, т.е. чтобы vgg19 получила на вход такие же картинки, какие привыкла обрабатывать\n",
        "        #vibo: парамтры нормализации выше взяты их статьи про vgg19\n",
        "        normalization = Normalization(normalization_mean, normalization_std).to(device)\n",
        "\n",
        "        # just in order to have an iterable access to or list of content/syle\n",
        "        # losses\n",
        "        #vibo: вводим два листа для сохранения ошибок\n",
        "        content_losses = []\n",
        "        style_losses = []\n",
        "\n",
        "        # assuming that cnn is a nn.Sequential, so we make a new nn.Sequential\n",
        "        # to put in modules that are supposed to be activated sequentially\n",
        "        #vibo: создаем модель, вносим первый уровень с нормализацией\n",
        "        model = nn.Sequential(normalization)\n",
        "\n",
        "        i = 0  # increment every time we see a conv\n",
        "        #vibo: идем по уровням, vgg19 (выше она названа cnn)\n",
        "        for layer in cnn.children():\n",
        "            #vibo: проверяем является ли слой экземпляром класса conv2d\n",
        "            if isinstance(layer, nn.Conv2d):\n",
        "                i += 1\n",
        "                #vibo: нумеруем сверточные слои\n",
        "                name = 'conv_{}'.format(i)\n",
        "            elif isinstance(layer, nn.ReLU):\n",
        "                name = 'relu_{}'.format(i)\n",
        "                # The in-place version doesn't play very nicely with the ContentLoss\n",
        "                # and StyleLoss we insert below. So we replace with out-of-place\n",
        "                # ones here.\n",
        "                #Переопределим relu уровень\n",
        "                #vibo: пересоздаем, потому, что по другому не работает\n",
        "                layer = nn.ReLU(inplace=False)\n",
        "            elif isinstance(layer, nn.MaxPool2d):\n",
        "                name = 'pool_{}'.format(i)\n",
        "            elif isinstance(layer, nn.BatchNorm2d):\n",
        "                name = 'bn_{}'.format(i)\n",
        "            else:\n",
        "                raise RuntimeError('Unrecognized layer: {}'.format(layer.__class__.__name__))\n",
        "\n",
        "            #vibo: выше перебирали слои vgg19 и нумеровали их, ниже складываем их снова в модель\n",
        "            model.add_module(name, layer)\n",
        "\n",
        "            #vibo: проверяем имя слоя из списов выше (мы определили после каких слоев добавлять loss для контента и стиля)\n",
        "            #vibo: если слой из списка контент\n",
        "            if name in content_layers:\n",
        "                # add content loss:\n",
        "                #vibo: берем контент img\n",
        "                target = model(content_img).detach()\n",
        "                #vibo: считаем контент loss\n",
        "                content_loss = ContentLoss(target)\n",
        "                #vibo: добавляем в модель слой с вычислением контент-loss\n",
        "                model.add_module(\"content_loss_{}\".format(i), content_loss)\n",
        "                #vibo: саму ошибку отправляем в созданный выше лист\n",
        "                content_losses.append(content_loss)\n",
        "\n",
        "            #vibo: аданлогично для стиль - лосс\n",
        "            if name in style_layers:\n",
        "                # add style loss:\n",
        "                target_feature = model(style_img).detach()\n",
        "                style_loss = StyleLoss(target_feature)\n",
        "                model.add_module(\"style_loss_{}\".format(i), style_loss)\n",
        "                style_losses.append(style_loss)\n",
        "\n",
        "        # now we trim off the layers after the last content and style losses\n",
        "        #выбрасываем все уровни после последенего styel loss или content loss\n",
        "        \n",
        "        #vibo: обрезаем модель, т.е. все, что идет после последнего добавленного нами уровня\n",
        "        for i in range(len(model) - 1, -1, -1):\n",
        "            if isinstance(model[i], ContentLoss) or isinstance(model[i], StyleLoss):\n",
        "                break\n",
        "\n",
        "        model = model[:(i + 1)]\n",
        "\n",
        "        #vibo: возвращаем модель, которая будет производить вычисления\n",
        "        #vibo: также возвращаем два листа лоссов\n",
        "        return model, style_losses, content_losses"
      ],
      "metadata": {
        "id": "wAvQS7LhG018"
      },
      "execution_count": null,
      "outputs": []
    },
    {
      "cell_type": "code",
      "source": [
        "#vibo: устанавливаем оптимизатор, почему такой - из оригинальной статьи про transfer learning (перебрали разные - этот лучший)\n",
        "def get_input_optimizer(input_img):\n",
        "        # this line to show that input is a parameter that requires a gradient\n",
        "        #добоваляет содержимое тензора катринки в список изменяемых оптимизатором параметров\n",
        "        optimizer = optim.LBFGS([input_img.requires_grad_()]) \n",
        "        return optimizer"
      ],
      "metadata": {
        "id": "pqtsA9NLG0bT"
      },
      "execution_count": null,
      "outputs": []
    },
    {
      "cell_type": "code",
      "source": [
        "#vibo: классическое обучение (num_steps=500 - количество эпох обучения)\n",
        "#vibo: style_weight=100000, content_weight=1 (это alfa и betta из формулы про loss)\n",
        "def run_style_transfer(cnn, normalization_mean, normalization_std,\n",
        "                        content_img, style_img, input_img, num_steps=500,\n",
        "                        style_weight=100000, content_weight=1):\n",
        "        \"\"\"Run the style transfer.\"\"\"\n",
        "        print('Building the style transfer model..')\n",
        "        #vibo: вызывкм функцию, с нашей моделью и списками loss\n",
        "        model, style_losses, content_losses = get_style_model_and_losses(cnn,\n",
        "            normalization_mean, normalization_std, style_img, content_img)\n",
        "        #vibo: получаем оптимизатор\n",
        "        optimizer = get_input_optimizer(input_img)\n",
        "\n",
        "        print('Optimizing..')\n",
        "        #vibo: run в виде списка иначе все ломается\n",
        "        run = [0]\n",
        "        while run[0] <= num_steps:\n",
        "\n",
        "            #vibo: функция не вызывается, а подается в качестве агрумента для optimizer.step ниже\n",
        "            #vibo: описываем то, как считаем функцию потерь\n",
        "            def closure():\n",
        "                # correct the values \n",
        "                # это для того, чтобы значения тензора картинки не выходили за пределы [0;1]\n",
        "                #vibo: обрезаем тензор, чтобы цвета не вылетели за 0 и 1\n",
        "                input_img.data.clamp_(0, 1)\n",
        "\n",
        "                #vibo: обнуляем градиент\n",
        "                optimizer.zero_grad()\n",
        "\n",
        "                #vibo: пропускаем картинку через всю нейросеть, чтобы посчитались все лоссы\n",
        "                model(input_img)\n",
        "\n",
        "                #vibo: описываем функцию потреть, она у нас считается не стандартно\n",
        "                style_score = 0\n",
        "                content_score = 0\n",
        "\n",
        "                #vibo: два лосса стиля и контента\n",
        "                for sl in style_losses:\n",
        "                    style_score += sl.loss\n",
        "                for cl in content_losses:\n",
        "                    content_score += cl.loss\n",
        "                \n",
        "                #взвешивание ощибки\n",
        "                #vibo: домножаем на веса\n",
        "                style_score *= style_weight\n",
        "                content_score *= content_weight\n",
        "\n",
        "                #vibo: записылаем итоговый лосс\n",
        "                loss = style_score + content_score\n",
        "                #vibo: запускаем обратное распростанение ошибки\n",
        "                #vibo: при этом апдейтим только веса исходной картинки\n",
        "                loss.backward()\n",
        "\n",
        "                #vibo: отрисовка при обучении здачений функции потерь\n",
        "                run[0] += 1\n",
        "                if run[0] % 50 == 0:\n",
        "                    print(\"run {}:\".format(run))\n",
        "                    print('Style Loss : {:4f} Content Loss: {:4f}'.format(\n",
        "                        style_score.item(), content_score.item()))\n",
        "                    print()\n",
        "\n",
        "                #vibo: возвращаем потери\n",
        "                return style_score + content_score\n",
        "\n",
        "            #vibo: запускаем алгоритм апдейта весов картинки\n",
        "            optimizer.step(closure)\n",
        "\n",
        "        # a last correction...\n",
        "        #vibo: обрезаем тензор, чтобы цвета не вылетели за 0 и 1\n",
        "        input_img.data.clamp_(0, 1)\n",
        "\n",
        "        #vibo: возвращаем картинку\n",
        "        return input_img"
      ],
      "metadata": {
        "id": "tBCqsuSUG0PQ"
      },
      "execution_count": null,
      "outputs": []
    },
    {
      "cell_type": "code",
      "source": [
        "input_img = content_img.clone()\n",
        "# if you want to use white noise instead uncomment the below line:\n",
        "# input_img = torch.randn(content_img.data.size(), device=device)\n",
        "\n",
        "# add the original input image to the figure:\n",
        "plt.figure()\n",
        "imshow(input_img, title='Input Image')\n",
        "output = run_style_transfer(cnn, cnn_normalization_mean, cnn_normalization_std,\n",
        "                            content_img, style_img, input_img)"
      ],
      "metadata": {
        "id": "ysddVyaeHBjN"
      },
      "execution_count": null,
      "outputs": []
    },
    {
      "cell_type": "code",
      "source": [
        "plt.figure()\n",
        "imshow(output, title='Output Image')\n",
        "#plt.imsave(output, 'output.png')\n",
        "# sphinx_gallery_thumbnail_number = 4\n",
        "plt.ioff()\n",
        "plt.show()"
      ],
      "metadata": {
        "id": "xen2syLsHBav"
      },
      "execution_count": null,
      "outputs": []
    },
    {
      "cell_type": "code",
      "source": [
        "#vibo: сохраняем полученное изображение\n",
        "plt.imsave('Output_Image1.jpg', output.cpu(), cmap='Greys')"
      ],
      "metadata": {
        "id": "fZ617vf1xnq6"
      },
      "execution_count": null,
      "outputs": []
    },
    {
      "cell_type": "markdown",
      "source": [
        "### Telegram bot"
      ],
      "metadata": {
        "id": "q1iVd9ClzIyg"
      }
    },
    {
      "cell_type": "markdown",
      "source": [
        "#### PyTelegramBotAPI (Telebot)"
      ],
      "metadata": {
        "id": "r8TjNqYNWcmF"
      }
    },
    {
      "cell_type": "code",
      "source": [
        "#vibo: первоисточник на habr\n",
        "#vibo: https://habr.com/ru/post/442800/"
      ],
      "metadata": {
        "id": "YEfzkUR2WwvK"
      },
      "execution_count": null,
      "outputs": []
    },
    {
      "cell_type": "code",
      "source": [
        "#vibo: репозиторий TelegramBotAPI\n",
        "#vibo: https://github.com/eternnoir/pyTelegramBotAPI"
      ],
      "metadata": {
        "id": "Flczzm1dlUUO"
      },
      "execution_count": null,
      "outputs": []
    },
    {
      "cell_type": "code",
      "source": [
        "#vibo: регистрация бота для получения токена\n",
        "\n",
        "#vibo: идем на @botfarther в telegram \n",
        "#vibo: регистрируем нового бота /newbot\n",
        "#vibo: выбираем имя для бота NST_vibo\n",
        "#vibo: выбираем имя пользователя для бота (должно заканчиваться на _bot) NST_vibo_bot\n",
        "#vibo: полученный токен сохраняем"
      ],
      "metadata": {
        "id": "tVmdZg-HfSK_"
      },
      "execution_count": null,
      "outputs": []
    },
    {
      "cell_type": "code",
      "source": [
        "# #vibo: устанавливаем библиотеку\n",
        "# !pip install pytelegrambotapi"
      ],
      "metadata": {
        "id": "WktY9C7JWljS"
      },
      "execution_count": null,
      "outputs": []
    },
    {
      "cell_type": "code",
      "source": [
        "#vibo: расшаренная папка на google-диске\n",
        "#https://drive.google.com/drive/folders/1w4l_M1SZjtkECvVdNeWtrfULoZ3PyofL?usp=sharing\n",
        "#vibo: там же взял file-id\n"
      ],
      "metadata": {
        "id": "SKc2C5ol1__q"
      },
      "execution_count": null,
      "outputs": []
    },
    {
      "cell_type": "code",
      "source": [
        "# #vibo: устанавливаем загрузчик с google-drive\n",
        "# !pip install googledrivedownloader"
      ],
      "metadata": {
        "id": "lRDGpcYKG6-o"
      },
      "execution_count": null,
      "outputs": []
    },
    {
      "cell_type": "code",
      "source": [
        "# #vibo: загружаем библиотеку для загрузки файлов в colab\n",
        "# from google_drive_downloader import GoogleDriveDownloader as gdd\n",
        "\n",
        "# #vibo: скачиваем расшаренные файлы для примера\n",
        "# gdd.download_file_from_google_drive(file_id='1b7jWjSJ0MZuoXdHGuiJV2Wj395S5C6u1', dest_path = '/content/file1.jpeg')\n",
        "# gdd.download_file_from_google_drive(file_id='1FPvVTr__mVSqfMOYyb5cdwfnKWmZ8c4U', dest_path = '/content/file2.jpeg')\n",
        "# gdd.download_file_from_google_drive(file_id='1wcJc8nVC2gFkBR9R87yqlxnv0z6dKcPq', dest_path = '/content/file3.jpeg')"
      ],
      "metadata": {
        "id": "oNHql1vhHCiY"
      },
      "execution_count": null,
      "outputs": []
    },
    {
      "cell_type": "code",
      "source": [
        "# import urllib.request\n",
        "# logo = urllib.request.urlopen(\"https://drive.google.com/uc?id=1gkTOtZ7K72IxxTQ8W1bHMmLglvAYUfIe&export=download\").read()\n",
        "# f = open(\"photo.jpg\", \"wb\")\n",
        "# f.write(logo)\n",
        "# f.close()"
      ],
      "metadata": {
        "id": "8Y07CR-ZCnCS"
      },
      "execution_count": null,
      "outputs": []
    },
    {
      "cell_type": "code",
      "source": [
        "# #vibo: импортируем библиотеку\n",
        "# import telebot\n",
        "# from telebot import types\n",
        "# from PIL import Image"
      ],
      "metadata": {
        "id": "V1dMIlkUWfZN"
      },
      "execution_count": null,
      "outputs": []
    },
    {
      "cell_type": "code",
      "source": [
        "# #vibo: подключаем токен бота\n",
        "# bot = telebot.TeleBot('5262420063:AAEurVTkgPuxoAHZSaekJ-3k8AdWV4Ec3H0')"
      ],
      "metadata": {
        "id": "WiieIUokWrV7"
      },
      "execution_count": null,
      "outputs": []
    },
    {
      "cell_type": "code",
      "source": [
        "# #vibo: вариант 1_объявим метод для получения текстовых сообщений\n",
        "# @bot.message_handler(content_types=['text', 'document', 'audio'])\n",
        "# def get_text_messages(message):\n",
        "#   #vibo: \n",
        "#   if message.text == \"Привет\":\n",
        "#     bot.send_message(message.from_user.id, \"Привет, чем я могу тебе помочь?\")\n",
        "#   elif message.text == \"/help\":\n",
        "#     bot.send_message(message.from_user.id, \"Напиши привет\")\n",
        "#   else:\n",
        "#     bot.send_message(message.from_user.id, \"Я тебя не понимаю. Напиши /help.\")"
      ],
      "metadata": {
        "id": "PzdSJX8jXT4L"
      },
      "execution_count": null,
      "outputs": []
    },
    {
      "cell_type": "code",
      "source": [
        "# from google.colab import drive\n",
        "# drive.mount('/content/drive/')"
      ],
      "metadata": {
        "id": "HkJIUgb4Wej8"
      },
      "execution_count": null,
      "outputs": []
    },
    {
      "cell_type": "code",
      "source": [
        "# #vibo: вариант 2_диалог с сохранением данных пользователя в папку google диск\n",
        "# name = ''\n",
        "# surname = ''\n",
        "# age = 0\n",
        "\n",
        "\n",
        "# @bot.message_handler(content_types=['text'])\n",
        "\n",
        "# def start(message):\n",
        "#     if message.text == '/reg':\n",
        "#         bot.send_message(message.from_user.id, \"Как тебя зовут?\")\n",
        "#         bot.register_next_step_handler(message, get_name); #следующий шаг – функция get_name\n",
        "#     else:\n",
        "#         bot.send_message(message.from_user.id, 'Напиши /reg')\n",
        "\n",
        "# def get_name(message): #получаем фамилию\n",
        "#     global name;\n",
        "#     name = message.text;\n",
        "#     bot.send_message(message.from_user.id, 'Какая у тебя фамилия?')\n",
        "#     bot.register_next_step_handler(message, get_surname)\n",
        "\n",
        "# def get_surname(message):\n",
        "#     global surname\n",
        "#     surname = message.text\n",
        "#     bot.send_message(message.from_user.id,'Сколько тебе лет?')\n",
        "#     bot.register_next_step_handler(message, get_age)\n",
        "\n",
        "# # def get_age(message):\n",
        "# #     global age;\n",
        "# #     while age == 0: #проверяем что возраст изменился\n",
        "# #         try:\n",
        "# #              age = int(message.text) #проверяем, что возраст введен корректно\n",
        "# #         except Exception:\n",
        "# #              bot.send_message(message.from_user.id, 'Цифрами, пожалуйста');\n",
        "# #       bot.send_message(message.from_user.id, 'Тебе '+str(age)+' лет, тебя зовут '+name+' '+surname+'?')\n",
        "\n",
        "# #vibo: доработанный get_age с копками подтверждения\n",
        "# def get_age(message):\n",
        "#     # global age\n",
        "#     # while age == 0: #проверяем что возраст изменился\n",
        "#     #     try:\n",
        "#     #          age = int(message.text) #проверяем, что возраст введен корректно\n",
        "#     #     except Exception:\n",
        "#     #          bot.send_message(message.from_user.id, 'Цифрами, пожалуйста')\n",
        "\n",
        "#     global age\n",
        "#     age = message.text\n",
        "#     bot.send_message(message.from_user.id,'Спасибо!')\n",
        "\n",
        "#     keyboard = types.InlineKeyboardMarkup() #наша клавиатура\n",
        "#     key_yes = types.InlineKeyboardButton(text='Да', callback_data='yes') #кнопка «Да»\n",
        "#     keyboard.add(key_yes) #добавляем кнопку в клавиатуру\n",
        "#     key_no= types.InlineKeyboardButton(text='Нет', callback_data='no')\n",
        "#     keyboard.add(key_no)\n",
        "#     question = 'Тебе '+str(age)+' лет, тебя зовут '+name+' '+surname+'?'\n",
        "    \n",
        "#     bot.send_message(message.from_user.id, text=question, reply_markup=keyboard)\n",
        "\n",
        "# #vibo: метод-обработчик\n",
        "# @bot.callback_query_handler(func=lambda call: True)\n",
        "# def callback_worker(call):\n",
        "#     user_data = []\n",
        "#     if call.data == \"yes\": #call.data это callback_data, которую мы указали при объявлении кнопки\n",
        "#         user_data.append(''+name+' '+surname+' '+str(age)+'') #код сохранения данных, или их обработки\n",
        "#         bot.send_message(call.message.chat.id, 'Запомню : )')\n",
        "\n",
        "#         #vibo: сохранение на google-disk\n",
        "#         with open(\"/content/drive/MyDrive/images/user_data_file.txt\", \"a\") as file:\n",
        "#           file.write(str(user_data) + '\\n')\n",
        "\n",
        "#     elif call.data == \"no\":\n",
        "#          bot.send_message(call.message.chat.id, 'Напиши /reg')"
      ],
      "metadata": {
        "id": "FJneL88MHPxR"
      },
      "execution_count": null,
      "outputs": []
    },
    {
      "cell_type": "code",
      "source": [
        "# #vibo: вариант_3_загрузка фото\n",
        "# #vibo: добавляем 'photo' к типам данных\n",
        "# @bot.message_handler(content_types=['text', 'photo'])\n",
        "\n",
        "# #vibo: приветствие с запросом первого изображения (content_image)\n",
        "# def start(message):\n",
        "#     if message.text == '/start':\n",
        "#         bot.send_message(message.from_user.id, 'Привет! Я, Neural Style Transfer Bot!')\n",
        "#         bot.send_message(message.from_user.id, 'Я умею переносить стиль с одной картинки на другую.')\n",
        "#         bot.send_message(message.from_user.id, \"Загрузи первую картинку:\")      \n",
        "#         bot.register_next_step_handler(message, get_content); #следующий шаг – функция get_name\n",
        "#     else:\n",
        "#         pass\n",
        "\n",
        "# #vibo: получаем первое изображение (content_image), запрашиваем второе изображение (style_image)\n",
        "# def get_content(message):\n",
        "#     raw = message.photo[2].file_id\n",
        "#     name = raw+\".jpg\"\n",
        "#     file_info = bot.get_file(raw)\n",
        "#     downloaded_file = bot.download_file(file_info.file_path)\n",
        "#     with open(\"content_image.jpg\", 'wb') as new_file:\n",
        "#         new_file.write(downloaded_file)\n",
        "\n",
        "#     bot.send_message(message.from_user.id, 'Ок! Эту картинку будем раскрашивать.')\n",
        "#     bot.send_message(message.from_user.id, 'Теперь загрузи вторую:')\n",
        "#     bot.register_next_step_handler(message, get_style)\n",
        "\n",
        "# #vibo: получаем второе изображение (style_image)\n",
        "# def get_style(message):\n",
        "#     raw = message.photo[2].file_id\n",
        "#     name = raw+\".jpg\"\n",
        "#     file_info = bot.get_file(raw)\n",
        "#     downloaded_file = bot.download_file(file_info.file_path)\n",
        "#     with open(\"style_image.jpg\", 'wb') as new_file:\n",
        "#         new_file.write(downloaded_file)\n",
        "\n",
        "#     bot.send_message(message.from_user.id, 'Эту картинку используем в качестве стиля.')\n",
        "\n",
        "#     keyboard = types.InlineKeyboardMarkup() #наша клавиатура\n",
        "#     key_yes = types.InlineKeyboardButton(text='ДА!', callback_data='yes') #кнопка «Да»\n",
        "#     keyboard.add(key_yes) #добавляем кнопку в клавиатуру\n",
        "#     key_no= types.InlineKeyboardButton(text='нет, повыбираю еще', callback_data='no')\n",
        "#     keyboard.add(key_no)\n",
        "#     question = 'Отличный выбор! Начинаем?'\n",
        "    \n",
        "#     bot.send_message(message.from_user.id, text=question, reply_markup=keyboard)\n",
        "\n",
        "# #vibo: метод-обработчик\n",
        "# @bot.callback_query_handler(func=lambda call: True)\n",
        "# def callback_worker(call):\n",
        "#     if call.data == \"yes\": #call.data это callback_data, которую мы указали при объявлении кнопки\n",
        "#         bot.send_message(call.message.chat.id, 'Ок. Начинаю переносить стиль.')\n",
        "#         bot.send_message(call.message.chat.id, 'Нужно подождать...')\n",
        "        \n",
        "#         output_image = Image.open('/content/output_image.jpg')\n",
        "#         bot.send_photo(call.message.chat.id, output_image)\n",
        "#         bot.send_message(call.message.chat.id, 'Готово!')\n",
        "#         bot.send_message(call.message.chat.id, 'Чтобы начать заново нажми /start')\n",
        "\n",
        "#     elif call.data == \"no\":\n",
        "#          bot.send_message(call.message.chat.id, 'Чтобы начать заново нажми /start')"
      ],
      "metadata": {
        "id": "s4Y9Z2wqn498"
      },
      "execution_count": null,
      "outputs": []
    },
    {
      "cell_type": "code",
      "source": [
        "# #vibo: вариант - 4, тело бота-1\n",
        "\n",
        "# #vibo: добавляем типы данных для работы в telebot\n",
        "# @bot.message_handler(content_types=['text', 'photo'])\n",
        "\n",
        "# #vibo: приветствие с запросом первого изображения для content_image\n",
        "# def start(message):\n",
        "#     if message.text == '/start':\n",
        "#         bot.send_message(message.from_user.id, 'Привет! Я, Neural Style Transfer Bot!')\n",
        "#         bot.send_message(message.from_user.id, 'Я умею переносить стиль с одной картинки на другую.')\n",
        "#         bot.send_message(message.from_user.id, \"Загрузи первую картинку:\")      \n",
        "#         #vibo: переход на следующий шаг с запуском get_content\n",
        "#         bot.register_next_step_handler(message, get_content)\n",
        "#     else:\n",
        "#         pass\n",
        "\n",
        "# #vibo: получаем первое изображение (content_image), запрашиваем второе изображение (style_image)\n",
        "# def get_content(message):\n",
        "#     #vibo: сохраняем полученный файл\n",
        "#     raw = message.photo[2].file_id\n",
        "#     name = raw+\".jpg\"\n",
        "#     file_info = bot.get_file(raw)\n",
        "#     downloaded_file = bot.download_file(file_info.file_path)\n",
        "#     with open(\"content_image.jpg\", 'wb') as new_file:\n",
        "#         new_file.write(downloaded_file)\n",
        "\n",
        "#     bot.send_message(message.from_user.id, 'Ок! Эту картинку будем раскрашивать.')\n",
        "#     bot.send_message(message.from_user.id, 'Теперь загрузи вторую:')\n",
        "#     #vibo: переходим на следующий шаг get_style\n",
        "#     bot.register_next_step_handler(message, get_style)\n",
        "\n",
        "# #vibo: получаем второе изображение (style_image)\n",
        "# def get_style(message):\n",
        "#     #vibo: сохраняем второе изображение\n",
        "#     raw = message.photo[2].file_id\n",
        "#     name = raw+\".jpg\"\n",
        "#     file_info = bot.get_file(raw)\n",
        "#     downloaded_file = bot.download_file(file_info.file_path)\n",
        "#     with open(\"style_image.jpg\", 'wb') as new_file:\n",
        "#         new_file.write(downloaded_file)\n",
        "\n",
        "#     bot.send_message(message.from_user.id, 'Эту картинку используем в качестве стиля.')\n",
        "\n",
        "#     #vibo: реализуем кнопки выбора для запуска переноса стиля\n",
        "#     keyboard = types.InlineKeyboardMarkup() #наша клавиатура\n",
        "#     key_yes = types.InlineKeyboardButton(text='ДА!', callback_data='yes') #кнопка «Да»\n",
        "#     keyboard.add(key_yes) #добавляем кнопку в клавиатуру\n",
        "#     key_no= types.InlineKeyboardButton(text='нет, повыбираю еще', callback_data='no')\n",
        "#     keyboard.add(key_no)\n",
        "#     question = 'Отличный выбор! Начинаем?'\n",
        "#     bot.send_message(message.from_user.id, text=question, reply_markup=keyboard)\n",
        "\n",
        "# #vibo: метод-обработчик\n",
        "# @bot.callback_query_handler(func=lambda call: True)\n",
        "# def callback_worker(call):\n",
        "#     #vibo: callback_data, которую мы указали при объявлении кнопки\n",
        "#     if call.data == \"yes\": \n",
        "#         bot.send_message(call.message.chat.id, 'Ок. Начинаю переносить стиль.')\n",
        "#         bot.send_message(call.message.chat.id, 'Нужно подождать...')\n",
        "        \n",
        "#         #vibo: запуск модели для переноса стиля\n",
        "#         #vibo: читает файлы, полученные от пользователя, сохраненные в colab\n",
        "#         #vibo: сохраняет в colab файл с перенесенным стилем \n",
        "#         nst_model_1()\n",
        "\n",
        "#         #vibo: читаем полученный файл после преобразования                                                       \n",
        "#         output_image = Image.open('/content/output_image.jpg')\n",
        "#         #vibo: отправляем полученное изображение в чат\n",
        "#         bot.send_photo(call.message.chat.id, output_image)\n",
        "#         bot.send_message(call.message.chat.id, 'Готово!')\n",
        "#         bot.send_message(call.message.chat.id, 'Чтобы начать заново нажми /start')\n",
        "\n",
        "#     #vibo: возвращаем пользователя в начало\n",
        "#     elif call.data == \"no\":\n",
        "#          bot.send_message(call.message.chat.id, 'Чтобы начать заново нажми /start')"
      ],
      "metadata": {
        "id": "DYtmScZFqAw3"
      },
      "execution_count": null,
      "outputs": []
    },
    {
      "cell_type": "code",
      "source": [
        "# #vibo: Теперь наш бот будет постоянно спрашивать у сервера Телеграмма «Мне кто-нибудь написал?»\n",
        "# bot.polling(none_stop=True, interval=0)"
      ],
      "metadata": {
        "id": "dBUMoR1yZujp"
      },
      "execution_count": null,
      "outputs": []
    },
    {
      "cell_type": "code",
      "source": [
        "#vibo: для перехода к боту используй qr-code"
      ],
      "metadata": {
        "id": "_sqqSRztQrn9"
      },
      "execution_count": null,
      "outputs": []
    },
    {
      "cell_type": "markdown",
      "source": [
        "![index.jpg](data:image/jpeg;base64,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)"
      ],
      "metadata": {
        "id": "qqzJ5qwZQyFf"
      }
    },
    {
      "cell_type": "code",
      "source": [
        "# #vibo: пример пересылки картинки в другую группу\n",
        "# #vibo: https://qna.habr.com/q/509409\n",
        "\n",
        "# @bot.message_handler(content_types=[\"text\", \"sticker\", \"pinned_message\", \"photo\", \"audio\"])\n",
        "# def echo_msg(message):\n",
        "#     if message.content_type == 'text':\n",
        "#         bot.send_message(chatID, \"Запрос от\\n*{name} {last}*\\n{text}\".format(name=message.chat.first_name, last=message.chat.last_name, text=message.text), parse_mode=\"Markdown\") #от кого идет сообщение и его содержание\n",
        "#         bot.send_message(message.chat.id, \"*{name}!*\\n\\nСпасибо за инфу\".format(name=message.chat.first_name, last=message.chat.last_name, text=message.text), parse_mode=\"Markdown\") #то что пойдет юзеру после отправки сообщения\n",
        "\n",
        "#     elif message.content_type == 'photo':\n",
        "#             raw = message.photo[2].file_id\n",
        "#             name = raw+\".jpg\"\n",
        "#             file_info = bot.get_file(raw)\n",
        "#             downloaded_file = bot.download_file(file_info.file_path)\n",
        "#             with open(name,'wb') as new_file:\n",
        "#                 new_file.write(downloaded_file)\n",
        "#             img = open(name, 'rb')\n",
        "#             bot.send_message(chatID, \"Запрос от\\n*{name} {last}*\".format(name=message.chat.first_name, last=message.chat.last_name), parse_mode=\"Markdown\") #от кого идет сообщение и его содержание\n",
        "#             bot.send_photo(chatID, img)\n",
        "#             bot.send_message(message.chat.id, \"*{name}!*\\n\\nСпасибо за инфу\".format(name=message.chat.first_name, last=message.chat.last_name, text=message.text), parse_mode=\"Markdown\") #то что пойдет юзеру после отправки сообщения\n"
      ],
      "metadata": {
        "id": "a65kBDejzdDR"
      },
      "execution_count": null,
      "outputs": []
    },
    {
      "cell_type": "markdown",
      "source": [
        "### ИТОГОВЫЙ ПРОЕКТ"
      ],
      "metadata": {
        "id": "K0p4k9fA0qS8"
      }
    },
    {
      "cell_type": "markdown",
      "source": [
        "#### Telebot"
      ],
      "metadata": {
        "id": "gd5_LOwE2yQR"
      }
    },
    {
      "cell_type": "code",
      "source": [
        "#vibo: устанавливаем библиотеку для работы с telebot\n",
        "!pip install pytelegrambotapi"
      ],
      "metadata": {
        "id": "ybhOkZDp0_vG"
      },
      "execution_count": null,
      "outputs": []
    },
    {
      "cell_type": "code",
      "source": [
        "#vibo: устанавливаем загрузчик с google-drive\n",
        "!pip install googledrivedownloader"
      ],
      "metadata": {
        "id": "E7-M856yVate"
      },
      "execution_count": null,
      "outputs": []
    },
    {
      "cell_type": "code",
      "source": [
        "#vibo: устанавливаем emoji\n",
        "!pip install emoji"
      ],
      "metadata": {
        "id": "b3uWdBz0q820"
      },
      "execution_count": null,
      "outputs": []
    },
    {
      "cell_type": "code",
      "source": [
        "#vibo: импортируем библиотеки для работы с ботом и обработки изображений + смайлы\n",
        "import telebot\n",
        "from telebot import types\n",
        "from PIL import Image\n",
        "import emoji\n",
        "\n",
        "#vibo: загружаем библиотеку для загрузки файлов в colab\n",
        "from google_drive_downloader import GoogleDriveDownloader as gdd"
      ],
      "metadata": {
        "id": "vO94qSbs0_qF"
      },
      "execution_count": null,
      "outputs": []
    },
    {
      "cell_type": "code",
      "source": [
        "#vibo: региструю бот для получения его токена\n",
        "\n",
        "#vibo: идем на @botfarther в telegram \n",
        "#vibo: регистрируем нового бота - /newbot\n",
        "#vibo: выбираем имя для бота - NST_vibo\n",
        "#vibo: выбираем имя пользователя для бота (должно заканчиваться на _bot) - NST_vibo_bot\n",
        "#vibo: полученный токен сохраняем"
      ],
      "metadata": {
        "id": "6LqKw69jaRsf"
      },
      "execution_count": null,
      "outputs": []
    },
    {
      "cell_type": "code",
      "source": [
        "#vibo: подключаем токен бота\n",
        "bot = telebot.TeleBot('5262420063:AAEurVTkgPuxoAHZSaekJ-3k8AdWV4Ec3H0')"
      ],
      "metadata": {
        "id": "Fq4YGGw01WnI"
      },
      "execution_count": null,
      "outputs": []
    },
    {
      "cell_type": "code",
      "source": [
        "#vibo: тело бота-2 с примером\n",
        "\n",
        "#vibo: добавляем типы данных для работы в telebot\n",
        "@bot.message_handler(content_types=['text', 'photo'])\n",
        "\n",
        "#vibo: приветствие с первым меню выбора\n",
        "def start(message):\n",
        "    if message.text == '/start':\n",
        "        bot.send_message(message.from_user.id, emoji.emojize('Привет! Я, Neural Style Transfer Bot!', use_aliases=True))\n",
        "        bot.send_message(message.from_user.id, emoji.emojize('Я умею переносить стиль с одной картинки на другую.', use_aliases=True))\n",
        "\n",
        "        #vibo: реализуем кнопки выбора для первого меню (пример или начало работы)\n",
        "        #vibo: клавиатура\n",
        "        keyboard_1 = types.InlineKeyboardMarkup()\n",
        "        #vibo: кнопка выбора примера\n",
        "        key_yes_1 = types.InlineKeyboardButton(text=emoji.emojize('Посмотреть пример', use_aliases=True), callback_data='yes_1')\n",
        "        #vibo: добавляем кнопку в клавиатуру\n",
        "        keyboard_1.add(key_yes_1)\n",
        "        #vibo: кнопка начала работы\n",
        "        key_no_1= types.InlineKeyboardButton(text=emoji.emojize('Начать работу', use_aliases=True), callback_data='no_1')\n",
        "        #vibo: добавляем кнопку в клавиатуру\n",
        "        keyboard_1.add(key_no_1)\n",
        "\n",
        "        #vibo: диалоговый запрос перед кнопками\n",
        "        question = emoji.emojize('Можешь посмотреть заготовленный пример или сразу перейти к загрузке своих изображений:', use_aliases=True)\n",
        "        bot.send_message(message.from_user.id, text=question, reply_markup=keyboard_1)\n",
        "\n",
        "#vibo: получаем первое изображение (content_image), запрашиваем второе изображение (style_image)\n",
        "def get_content(message):\n",
        "    #vibo: сохраняем полученный файл\n",
        "    raw = message.photo[2].file_id\n",
        "    name = raw+\".jpg\"\n",
        "    file_info = bot.get_file(raw)\n",
        "    downloaded_file = bot.download_file(file_info.file_path)\n",
        "    with open(\"content_image.jpg\", 'wb') as new_file:\n",
        "        new_file.write(downloaded_file)\n",
        "\n",
        "    bot.send_message(message.from_user.id, emoji.emojize('Ок! Эту картинку будем раскрашивать.', use_aliases=True))\n",
        "    bot.send_message(message.from_user.id, emoji.emojize('Теперь загрузи вторую:', use_aliases=True))\n",
        "    #vibo: переходим на следующий шаг get_style\n",
        "    bot.register_next_step_handler(message, get_style)\n",
        "\n",
        "#vibo: получаем второе изображение (style_image)\n",
        "def get_style(message):\n",
        "    #vibo: сохраняем второе изображение\n",
        "    raw = message.photo[2].file_id\n",
        "    name = raw+\".jpg\"\n",
        "    file_info = bot.get_file(raw)\n",
        "    downloaded_file = bot.download_file(file_info.file_path)\n",
        "    with open(\"style_image.jpg\", 'wb') as new_file:\n",
        "        new_file.write(downloaded_file)\n",
        "\n",
        "    bot.send_message(message.from_user.id, emoji.emojize('Эту картинку используем в качестве стиля.', use_aliases=True))\n",
        "\n",
        "    #vibo: реализуем кнопки выбора для запуска переноса стиля\n",
        "    keyboard_2 = types.InlineKeyboardMarkup() #наша клавиатура\n",
        "    key_yes_2 = types.InlineKeyboardButton(text=emoji.emojize('Да, поехали!', use_aliases=True), callback_data='yes_2')\n",
        "    keyboard_2.add(key_yes_2) #добавляем кнопку в клавиатуру\n",
        "    key_no_2 = types.InlineKeyboardButton(text=emoji.emojize('Нет, поменяю картинки', use_aliases=True), callback_data='no_2')\n",
        "    keyboard_2.add(key_no_2)\n",
        "    question = emoji.emojize('Все готово для старта! Начинаем перенос стиля?', use_aliases=True)\n",
        "    bot.send_message(message.from_user.id, text=question, reply_markup=keyboard_2)\n",
        "\n",
        "#vibo: метод-обработчик\n",
        "@bot.callback_query_handler(func=lambda call: True)\n",
        "def callback_worker(call):\n",
        "      \n",
        "    #vibo: callback_data для клавиатуры-1\n",
        "    if call.data == \"yes_1\":\n",
        "        \n",
        "        #vibo: скачиваем изображения с примерами из google-drive (папка расшарена) и грузим в чат\n",
        "        bot.send_message(call.message.chat.id, emoji.emojize('Берем первую картинку:', use_aliases=True))\n",
        "        gdd.download_file_from_google_drive(file_id='1b7jWjSJ0MZuoXdHGuiJV2Wj395S5C6u1', dest_path = '/content/file1.jpeg')\n",
        "        image1 = Image.open('/content/file1.jpeg')\n",
        "        bot.send_photo(call.message.chat.id, image1)\n",
        "\n",
        "        bot.send_message(call.message.chat.id, emoji.emojize('Выбираем вторую, ее используем для переноса стиля:', use_aliases=True))\n",
        "        gdd.download_file_from_google_drive(file_id='1FPvVTr__mVSqfMOYyb5cdwfnKWmZ8c4U', dest_path = '/content/file2.jpeg')\n",
        "        image2 = Image.open('/content/file2.jpeg')\n",
        "        bot.send_photo(call.message.chat.id, image2)\n",
        "        \n",
        "        bot.send_message(call.message.chat.id, emoji.emojize('Смотрим, что получилось:', use_aliases=True))\n",
        "        gdd.download_file_from_google_drive(file_id='1wcJc8nVC2gFkBR9R87yqlxnv0z6dKcPq', dest_path = '/content/file3.jpeg')\n",
        "        image3 = Image.open('/content/file3.jpeg')\n",
        "        bot.send_photo(call.message.chat.id, image3)\n",
        "      \n",
        "        bot.send_message(call.message.chat.id, emoji.emojize(\"Пора действовать. Теперь можешь загрузить свою первую картинку:\", use_aliases=True))      \n",
        "        #vibo: переход на следующий шаг с запуском get_content\n",
        "        bot.register_next_step_handler(call.message, get_content)\n",
        "\n",
        "    #vibo: callback_data для клавиатуры-2\n",
        "    elif call.data == \"no_1\":\n",
        "        bot.send_message(call.message.chat.id, emoji.emojize(\"Загрузи свою первую картинку:\", use_aliases=True))      \n",
        "        #vibo: переход на следующий шаг с запуском get_content\n",
        "        bot.register_next_step_handler(call.message, get_content)\n",
        "\n",
        "    #vibo: callback_data, которую мы указали при объявлении кнопки\n",
        "    elif call.data == \"yes_2\": \n",
        "        bot.send_message(call.message.chat.id, emoji.emojize('Ок. Начинаю переносить стиль.', use_aliases=True))\n",
        "        bot.send_message(call.message.chat.id, emoji.emojize('Нужно подождать... :coffee:?', use_aliases=True))\n",
        "        bot.send_message(call.message.chat.id, emoji.emojize('Здесь должен быть progress-bar... но его пока нет', use_aliases=True))\n",
        "        \n",
        "        #vibo: запуск модели для переноса стиля\n",
        "        #vibo: читает файлы, полученные от пользователя, сохраненные в colab\n",
        "        #vibo: сохраняет в colab файл с перенесенным стилем \n",
        "        nst_model_1()\n",
        "\n",
        "        #vibo: читаем полученный файл после преобразования                                                       \n",
        "        output_image = Image.open('/content/output_image.jpg')\n",
        "        #vibo: отправляем полученное изображение в чат\n",
        "        bot.send_photo(call.message.chat.id, output_image)\n",
        "        bot.send_message(call.message.chat.id, emoji.emojize('Готово! Чтобы перезапустить бота нажми /start', use_aliases=True))\n",
        "\n",
        "    #vibo: возвращаем пользователя в начало\n",
        "    elif call.data == \"no_2\":\n",
        "        bot.send_message(call.message.chat.id, emoji.emojize(\"Загрузи свою первую картинку:\", use_aliases=True))      \n",
        "        #vibo: переход на следующий шаг с запуском get_content\n",
        "        bot.register_next_step_handler(call.message, get_content)\n",
        "\n",
        "    else:\n",
        "        pass"
      ],
      "metadata": {
        "id": "Qvlza6jxaECd"
      },
      "execution_count": null,
      "outputs": []
    },
    {
      "cell_type": "markdown",
      "source": [
        "#### Модель-1"
      ],
      "metadata": {
        "id": "cBk9wJCg2SyI"
      }
    },
    {
      "cell_type": "code",
      "source": [
        "#vibo: устанавливаем pystiche - фреймворк для NST\n",
        "!pip install pystiche"
      ],
      "metadata": {
        "id": "6QdIMuLj3KGX"
      },
      "execution_count": null,
      "outputs": []
    },
    {
      "cell_type": "code",
      "source": [
        "#vibo: импортируем библиотеки\n",
        "import torch\n",
        "import pystiche\n",
        "from pystiche import demo, enc, loss, ops, optim\n",
        "import torchvision.transforms as transforms\n",
        "from PIL import Image\n",
        "\n",
        "#vibo: выбор девайса на котором будем производить расчет\n",
        "device = torch.device(\"cuda\" if torch.cuda.is_available() else \"cpu\")"
      ],
      "metadata": {
        "id": "PIrWN6ef1r84"
      },
      "execution_count": null,
      "outputs": []
    },
    {
      "cell_type": "code",
      "source": [
        "#vibo: загружаем encoder c архитектурой VGG19\n",
        "multi_layer_encoder = enc.vgg19_multi_layer_encoder()"
      ],
      "metadata": {
        "id": "T68N4yoQ1ry8"
      },
      "execution_count": null,
      "outputs": []
    },
    {
      "cell_type": "code",
      "source": [
        "#vibo: определяем слои для content_layer, передаем в encoder, считаем content_loss\n",
        "content_layer = \"relu4_2\"\n",
        "encoder = multi_layer_encoder.extract_encoder(content_layer)\n",
        "content_loss = pystiche.loss.FeatureReconstructionLoss(encoder)"
      ],
      "metadata": {
        "id": "Nfrw1uoD1rrh"
      },
      "execution_count": null,
      "outputs": []
    },
    {
      "cell_type": "code",
      "source": [
        "#vibo: определяем слои для style_layers\n",
        "style_layers = (\"relu1_1\", \"relu2_1\", \"relu3_1\", \"relu4_1\", \"relu5_1\")\n",
        "#vibo: управление 'фокусом' выходного изображения\n",
        "style_weight = 1e3\n",
        "\n",
        "def get_encoding_op(encoder, layer_weight):\n",
        "    return pystiche.loss.GramLoss(encoder, score_weight=layer_weight)\n",
        "\n",
        "#vibo: считаем style_loss\n",
        "style_loss = pystiche.loss.MultiLayerEncodingLoss(multi_layer_encoder, style_layers, get_encoding_op, score_weight=style_weight)"
      ],
      "metadata": {
        "id": "nrS5A36T3pky"
      },
      "execution_count": null,
      "outputs": []
    },
    {
      "cell_type": "code",
      "source": [
        "#vibo: оптимизация\n",
        "criterion = loss.PerceptualLoss(content_loss, style_loss).to(device)\n",
        "print(criterion)"
      ],
      "metadata": {
        "id": "k4c1Dwoy3pfK"
      },
      "execution_count": null,
      "outputs": []
    },
    {
      "cell_type": "code",
      "source": [
        "def nst_model_1():\n",
        "  #vibo: читаем полученную от пользователя первую картинку\n",
        "  content_image = Image.open('/content/content_image.jpg')\n",
        "  \n",
        "  #vibo: задаем преобразования - изменяем размер картинки, обрезаем ее по центру, преобразуем в тензор\n",
        "  transforms_image=transforms.Compose([transforms.Resize(512), transforms.CenterCrop(512), transforms.ToTensor()])\n",
        " \n",
        "  #vibo: преобразуем content_image, переностим на device\n",
        "  content_image=transforms_image(content_image)\n",
        "  criterion.set_content_image(content_image.to(device))\n",
        "\n",
        "  #vibo: читаем вторую, полученную от пользователя картинку\n",
        "  style_image = Image.open('/content/style_image.jpg')\n",
        "  \n",
        "  #vibo: преобразуем style_image,  переностим на device\n",
        "  style_image=transforms_image(style_image)\n",
        "  criterion.set_style_image(style_image.to(device))\n",
        "\n",
        "  #vibo: берем content_image как input_image\n",
        "  input_image = content_image.to(device).clone()\n",
        "  #vibo: получаем output_image\n",
        "  output_image = optim.image_optimization(input_image, criterion, num_steps=500)\n",
        "\n",
        "  #vibo: задаем преобразование к PIL изображению\n",
        "  unloader = transforms.ToPILImage()\n",
        "  #vibo: преобразовываем в картинку\n",
        "  output_image = unloader(output_image)\n",
        "  #vibo: сохраняем\n",
        "  output_image.save('output_image.jpg')"
      ],
      "metadata": {
        "id": "IQ7loM307d9n"
      },
      "execution_count": null,
      "outputs": []
    },
    {
      "cell_type": "markdown",
      "source": [
        "#### Модель-2"
      ],
      "metadata": {
        "id": "8FB2-aNm2XxI"
      }
    },
    {
      "cell_type": "code",
      "source": [
        ""
      ],
      "metadata": {
        "id": "G0De_lgH2dbf"
      },
      "execution_count": null,
      "outputs": []
    },
    {
      "cell_type": "markdown",
      "source": [
        "#### ЗАПУСК БОТА"
      ],
      "metadata": {
        "id": "H2HOmnWI2gGy"
      }
    },
    {
      "cell_type": "code",
      "source": [
        "#vibo: используем ссылку https://t.me/NST_vibo_bot"
      ],
      "metadata": {
        "id": "Cv3n7pNiYZOp"
      },
      "execution_count": null,
      "outputs": []
    },
    {
      "cell_type": "code",
      "source": [
        "#vibo: или qr-code"
      ],
      "metadata": {
        "id": "ffdrW98j14EM"
      },
      "execution_count": null,
      "outputs": []
    },
    {
      "cell_type": "markdown",
      "source": [
        "![index.jpg](data:image/jpeg;base64,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)"
      ],
      "metadata": {
        "id": "zCvcklKY2C2b"
      }
    },
    {
      "cell_type": "code",
      "source": [
        "#vibo: ЗАПУСКАЕМ БОТ\n",
        "bot.polling(none_stop=True, interval=0)"
      ],
      "metadata": {
        "id": "bDMqFdkk1qns"
      },
      "execution_count": null,
      "outputs": []
    }
  ]
}